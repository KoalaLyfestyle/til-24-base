{
 "cells": [
  {
   "cell_type": "code",
   "execution_count": 2,
   "id": "9889ed9f-6ced-4e58-823f-af734d1fcdc1",
   "metadata": {},
   "outputs": [
    {
     "ename": "FileNotFoundError",
     "evalue": "[Errno 2] No such file or directory: 'home/jupyter/advanced/images/'",
     "output_type": "error",
     "traceback": [
      "\u001b[0;31m---------------------------------------------------------------------------\u001b[0m",
      "\u001b[0;31mFileNotFoundError\u001b[0m                         Traceback (most recent call last)",
      "Cell \u001b[0;32mIn[2], line 50\u001b[0m\n\u001b[1;32m     47\u001b[0m output_directory \u001b[38;5;241m=\u001b[39m \u001b[38;5;124m'\u001b[39m\u001b[38;5;124mhome/jupyter/augmentedimages\u001b[39m\u001b[38;5;124m'\u001b[39m\n\u001b[1;32m     49\u001b[0m \u001b[38;5;66;03m# Perform the augmentation\u001b[39;00m\n\u001b[0;32m---> 50\u001b[0m \u001b[43maugment_images_in_directory\u001b[49m\u001b[43m(\u001b[49m\u001b[43minput_directory\u001b[49m\u001b[43m,\u001b[49m\u001b[43m \u001b[49m\u001b[43moutput_directory\u001b[49m\u001b[43m,\u001b[49m\u001b[43m \u001b[49m\u001b[43mnum_augmentations\u001b[49m\u001b[38;5;241;43m=\u001b[39;49m\u001b[38;5;241;43m5\u001b[39;49m\u001b[43m)\u001b[49m\n",
      "Cell \u001b[0;32mIn[2], line 37\u001b[0m, in \u001b[0;36maugment_images_in_directory\u001b[0;34m(input_dir, output_dir, num_augmentations)\u001b[0m\n\u001b[1;32m     34\u001b[0m \u001b[38;5;28;01mif\u001b[39;00m \u001b[38;5;129;01mnot\u001b[39;00m os\u001b[38;5;241m.\u001b[39mpath\u001b[38;5;241m.\u001b[39mexists(output_dir):\n\u001b[1;32m     35\u001b[0m     os\u001b[38;5;241m.\u001b[39mmakedirs(output_dir)\n\u001b[0;32m---> 37\u001b[0m image_files \u001b[38;5;241m=\u001b[39m [f \u001b[38;5;28;01mfor\u001b[39;00m f \u001b[38;5;129;01min\u001b[39;00m \u001b[43mos\u001b[49m\u001b[38;5;241;43m.\u001b[39;49m\u001b[43mlistdir\u001b[49m\u001b[43m(\u001b[49m\u001b[43minput_dir\u001b[49m\u001b[43m)\u001b[49m \u001b[38;5;28;01mif\u001b[39;00m f\u001b[38;5;241m.\u001b[39mendswith(\u001b[38;5;124m'\u001b[39m\u001b[38;5;124m.jpg\u001b[39m\u001b[38;5;124m'\u001b[39m)]\n\u001b[1;32m     39\u001b[0m \u001b[38;5;28;01mfor\u001b[39;00m image_file \u001b[38;5;129;01min\u001b[39;00m tqdm(image_files):\n\u001b[1;32m     40\u001b[0m     image_path \u001b[38;5;241m=\u001b[39m os\u001b[38;5;241m.\u001b[39mpath\u001b[38;5;241m.\u001b[39mjoin(input_dir, image_file)\n",
      "\u001b[0;31mFileNotFoundError\u001b[0m: [Errno 2] No such file or directory: 'home/jupyter/advanced/images/'"
     ]
    }
   ],
   "source": [
    "import os\n",
    "import cv2\n",
    "import numpy as np\n",
    "import albumentations as A\n",
    "from tqdm import tqdm\n",
    "\n",
    "# Define the augmentations pipeline\n",
    "augmentations = A.Compose([\n",
    "    A.RandomBrightnessContrast(p=0.5),       # Randomly change brightness and contrast\n",
    "    A.GaussianBlur(blur_limit=(3, 7), p=0.5), # Apply Gaussian blur\n",
    "    A.GaussNoise(var_limit=(10.0, 50.0), p=0.5), # Apply Gaussian noise\n",
    "    A.MotionBlur(blur_limit=7, p=0.5),        # Apply motion blur\n",
    "    A.RandomRain(p=0.3),                      # Add rain effect\n",
    "    A.RandomFog(fog_coef_lower=0.1, fog_coef_upper=0.3, p=0.3), # Add fog effect\n",
    "    A.RandomShadow(p=0.3),                    # Add shadow effect\n",
    "    A.RandomSunFlare(flare_roi=(0, 0, 1, 0.5), angle_lower=0.3, p=0.3), # Add sun flare\n",
    "])\n",
    "\n",
    "def augment_image(image_path, save_path):\n",
    "    # Read the image\n",
    "    image = cv2.imread(image_path)\n",
    "    if image is None:\n",
    "        print(f\"Error reading image {image_path}\")\n",
    "        return\n",
    "    \n",
    "    # Apply augmentations\n",
    "    augmented = augmentations(image=image)\n",
    "    augmented_image = augmented['image']\n",
    "\n",
    "    # Save the augmented image\n",
    "    cv2.imwrite(save_path, augmented_image)\n",
    "\n",
    "def augment_images_in_directory(input_dir, output_dir, num_augmentations=1):\n",
    "    if not os.path.exists(output_dir):\n",
    "        os.makedirs(output_dir)\n",
    "\n",
    "    image_files = [f for f in os.listdir(input_dir) if f.endswith('.jpg')]\n",
    "\n",
    "    for image_file in tqdm(image_files):\n",
    "        image_path = os.path.join(input_dir, image_file)\n",
    "        for i in range(num_augmentations):\n",
    "            save_path = os.path.join(output_dir, f\"{os.path.splitext(image_file)[0]}_aug_{i}.jpg\")\n",
    "            augment_image(image_path, save_path)\n",
    "\n",
    "# Set the input and output directories\n",
    "input_directory = '/home/jupyter/advanced/images'\n",
    "output_directory = '/home/jupyter/augmentedimages'\n",
    "\n",
    "# Perform the augmentation\n",
    "augment_images_in_directory(input_directory, output_directory, num_augmentations=5)\n"
   ]
  },
  {
   "cell_type": "code",
   "execution_count": null,
   "id": "2bd6908c-0ee4-4439-a000-8039b2f3c331",
   "metadata": {},
   "outputs": [],
   "source": []
  }
 ],
 "metadata": {
  "environment": {
   "kernel": "conda-base-py",
   "name": "workbench-notebooks.m120",
   "type": "gcloud",
   "uri": "us-docker.pkg.dev/deeplearning-platform-release/gcr.io/workbench-notebooks:m120"
  },
  "kernelspec": {
   "display_name": "Python 3 (ipykernel)",
   "language": "python",
   "name": "conda-base-py"
  },
  "language_info": {
   "codemirror_mode": {
    "name": "ipython",
    "version": 3
   },
   "file_extension": ".py",
   "mimetype": "text/x-python",
   "name": "python",
   "nbconvert_exporter": "python",
   "pygments_lexer": "ipython3",
   "version": "3.10.14"
  }
 },
 "nbformat": 4,
 "nbformat_minor": 5
}
